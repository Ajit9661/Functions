{
  "nbformat": 4,
  "nbformat_minor": 0,
  "metadata": {
    "colab": {
      "private_outputs": true,
      "provenance": []
    },
    "kernelspec": {
      "name": "python3",
      "display_name": "Python 3"
    },
    "language_info": {
      "name": "python"
    }
  },
  "cells": [
    {
      "cell_type": "markdown",
      "source": [
        "# Theory Questions:"
      ],
      "metadata": {
        "id": "nnHU5YMiSseS"
      }
    },
    {
      "cell_type": "markdown",
      "source": [
        "#1. what is the diffrence between a function and a method in python? for one example."
      ],
      "metadata": {
        "id": "mX5B-UkXSkcS"
      }
    },
    {
      "cell_type": "markdown",
      "source": [
        "#Ans:- Function: A standalone block of code that performs a specific task.\n",
        "\n",
        "Method: A function that belongs to a class or object, operating on its data.\n",
        "\n"
      ],
      "metadata": {
        "id": "OD1GAMVETWWq"
      }
    },
    {
      "cell_type": "code",
      "source": [
        "def greet(name):\n",
        "    print(f\"Hello, {name}!\")"
      ],
      "metadata": {
        "id": "wE2vKLyljX0u"
      },
      "execution_count": null,
      "outputs": []
    },
    {
      "cell_type": "code",
      "source": [
        " greet(\"John\")"
      ],
      "metadata": {
        "id": "OCQbpFUwkCsH"
      },
      "execution_count": null,
      "outputs": []
    },
    {
      "cell_type": "code",
      "source": [
        "def __init__(self, name):\n",
        "        self.name = name\n"
      ],
      "metadata": {
        "id": "zcYAsA2JZvV1"
      },
      "execution_count": null,
      "outputs": []
    },
    {
      "cell_type": "code",
      "source": [
        "greet(\"jhon\")"
      ],
      "metadata": {
        "id": "cLjaFU3QaD09"
      },
      "execution_count": null,
      "outputs": []
    },
    {
      "cell_type": "markdown",
      "source": [
        "#2.Explain the concept of function arguments and parameters in python.\n",
        "\n"
      ],
      "metadata": {
        "id": "Ug28J0UsaS-c"
      }
    },
    {
      "cell_type": "markdown",
      "source": [
        "#Ans:-In Python, function arguments and parameters are related concepts:\n",
        "\n",
        "Parameters:\n",
        "\n",
        "- Defined in the function definition using the def keyword.\n",
        "- Receive values passed to the function when it's called.\n",
        "- Listed in parentheses after the function name.\n",
        "- Can have default values.\n",
        "\n",
        "Arguments:\n",
        "\n",
        "- Values passed to the function when it's called.\n",
        "- Assigned to parameters in the function definition.\n",
        "- Can be positional (based on order) or keyword-based (using parameter names).\n"
      ],
      "metadata": {
        "id": "63HdVBFQauhU"
      }
    },
    {
      "cell_type": "code",
      "source": [
        "def greet(name, message=\"Hello\"):  # Parameters: name, message\n",
        "    print(f\"{message}, {name}!\")"
      ],
      "metadata": {
        "id": "f9QpP0BEbBPT"
      },
      "execution_count": null,
      "outputs": []
    },
    {
      "cell_type": "code",
      "source": [
        "greet(\"jhon\",\"hi\")"
      ],
      "metadata": {
        "id": "D7c6ObZ9bTfc"
      },
      "execution_count": null,
      "outputs": []
    },
    {
      "cell_type": "code",
      "source": [
        "greet(\"jhon\")"
      ],
      "metadata": {
        "id": "U8rVNi7lbdIk"
      },
      "execution_count": null,
      "outputs": []
    },
    {
      "cell_type": "markdown",
      "source": [
        "#3.what are the different ways to difine and call a function in python?"
      ],
      "metadata": {
        "id": "FoZizeKcb7zk"
      }
    },
    {
      "cell_type": "markdown",
      "source": [
        "#Ans:-Understanding the different ways to define and call functions in Python can help you write more efficient and readable code.\n",
        "\n",
        "Would you like more information on functions or Python syntax?"
      ],
      "metadata": {
        "id": "0WPWE99NcNPc"
      }
    },
    {
      "cell_type": "code",
      "source": [
        "def greet(name):\n",
        " print(f\"Hello, {name}!\")\n",
        "\n"
      ],
      "metadata": {
        "id": "XMDIMxMzcKF8"
      },
      "execution_count": null,
      "outputs": []
    },
    {
      "cell_type": "code",
      "source": [
        "greet(\"jhon\")\n"
      ],
      "metadata": {
        "id": "thOQ_OZgdxCE"
      },
      "execution_count": null,
      "outputs": []
    },
    {
      "cell_type": "code",
      "source": [
        "greet = lambda name: print(f\"Hello, {name}!\")  #lambda function"
      ],
      "metadata": {
        "id": "7u1myNNWe330"
      },
      "execution_count": null,
      "outputs": []
    },
    {
      "cell_type": "code",
      "source": [
        "greet(\"jhon\")"
      ],
      "metadata": {
        "id": "IY2NAAbch7zU"
      },
      "execution_count": null,
      "outputs": []
    },
    {
      "cell_type": "code",
      "source": [
        "def find_power(num,power):   #calling function\n",
        "  return num*power\n",
        "\n"
      ],
      "metadata": {
        "id": "de1sYSfijwlT"
      },
      "execution_count": null,
      "outputs": []
    },
    {
      "cell_type": "code",
      "source": [
        "find_power(50,5)"
      ],
      "metadata": {
        "id": "BUcnzfaplVfN"
      },
      "execution_count": null,
      "outputs": []
    },
    {
      "cell_type": "markdown",
      "source": [
        "#4. what is the purpose of the 'return' statement in a python function?"
      ],
      "metadata": {
        "id": "G0JulomtuEgX"
      }
    },
    {
      "cell_type": "markdown",
      "source": [
        "#Ans:-1. Exiting the function: The return statement immediately terminates the function's execution and returns control to the caller.\n",
        "\n",
        "2. Returning values: You can use the return statement to return values from a function. The returned value can be of any data type, including strings, integers, floats, lists, dictionaries, etc.\n",
        "\n",
        "3. Returning multiple values: Python allows you to return multiple values from a function using the return statement with multiple values separated by commas.\n",
        "\n",
        "4. Returning None: If you use the return statement without specifying a value, the function will return None.\n",
        "\n"
      ],
      "metadata": {
        "id": "UgT4eTpXus4l"
      }
    },
    {
      "cell_type": "code",
      "source": [
        "def greet(name):\n",
        "    print(f\"Hello, {name}!\")\n",
        "    return \"Greetings sent\""
      ],
      "metadata": {
        "id": "DucqhHAFvM-m"
      },
      "execution_count": null,
      "outputs": []
    },
    {
      "cell_type": "code",
      "source": [
        "greet(\"jhon\")"
      ],
      "metadata": {
        "id": "94MMpZ5dvgVO"
      },
      "execution_count": null,
      "outputs": []
    },
    {
      "cell_type": "code",
      "source": [
        "def add(a, b):\n",
        "    return a + b"
      ],
      "metadata": {
        "id": "72zDtJufv8HN"
      },
      "execution_count": null,
      "outputs": []
    },
    {
      "cell_type": "code",
      "source": [
        "add (5,7)"
      ],
      "metadata": {
        "id": "LqOPHp8zwPHd"
      },
      "execution_count": null,
      "outputs": []
    },
    {
      "cell_type": "markdown",
      "source": [
        "#5. what are interators in python and how do they differ form iterables?"
      ],
      "metadata": {
        "id": "7RaMQ90kwWiU"
      }
    },
    {
      "cell_type": "markdown",
      "source": [
        "#Ans:-Iterables:\n",
        "\n",
        "- An iterable is an object that can be iterated over, such as lists, tuples, dictionaries, sets, or strings.\n",
        "- Iterables have a __iter__() method that returns an iterator object.\n",
        "\n",
        "Iterators:\n",
        "\n",
        "- An iterator is an object that keeps track of its position within an iterable.\n",
        "- Iterators have a __next__() method that returns the next item from the iterable.\n",
        "- Iterators can only move forward, not backward.\n",
        "\n",
        "Key differences:\n",
        "\n",
        "1. Creation: Iterables exist independently, while iterators are created from iterables.\n",
        "2. State: Iterables maintain no state, whereas iterators keep track of their position.\n",
        "3. Traversal: Iterables can be traversed multiple times, but iterators can only traverse once.\n",
        "\n"
      ],
      "metadata": {
        "id": "dcKsARopxCde"
      }
    },
    {
      "cell_type": "code",
      "source": [
        "s =\"pwskills\"\n",
        "for i in s:\n",
        "  print(i)\n"
      ],
      "metadata": {
        "id": "U97_OoqGwTwD"
      },
      "execution_count": null,
      "outputs": []
    },
    {
      "cell_type": "code",
      "source": [
        "l = iter(s)"
      ],
      "metadata": {
        "id": "xWO5oNrfx7g1"
      },
      "execution_count": null,
      "outputs": []
    },
    {
      "cell_type": "code",
      "source": [
        "next(l)"
      ],
      "metadata": {
        "id": "CRdRSOOrySVV"
      },
      "execution_count": null,
      "outputs": []
    },
    {
      "cell_type": "code",
      "source": [
        "next(l)"
      ],
      "metadata": {
        "id": "C2f26o2xzvH8"
      },
      "execution_count": null,
      "outputs": []
    },
    {
      "cell_type": "code",
      "source": [
        "next(l)"
      ],
      "metadata": {
        "id": "BJnsqWP8z0kd"
      },
      "execution_count": null,
      "outputs": []
    },
    {
      "cell_type": "code",
      "source": [
        "next(l)"
      ],
      "metadata": {
        "id": "jMmjp6z7z2oM"
      },
      "execution_count": null,
      "outputs": []
    },
    {
      "cell_type": "code",
      "source": [
        "next(l)"
      ],
      "metadata": {
        "id": "dMEww4eqz4H8"
      },
      "execution_count": null,
      "outputs": []
    },
    {
      "cell_type": "code",
      "source": [
        "next(l)"
      ],
      "metadata": {
        "id": "ZHbjUpJaz6LM"
      },
      "execution_count": null,
      "outputs": []
    },
    {
      "cell_type": "code",
      "source": [
        "next(l)"
      ],
      "metadata": {
        "id": "DkJ2N6Lpz799"
      },
      "execution_count": null,
      "outputs": []
    },
    {
      "cell_type": "code",
      "source": [
        "next(l)"
      ],
      "metadata": {
        "id": "Ir7azkrMz9vC"
      },
      "execution_count": null,
      "outputs": []
    },
    {
      "cell_type": "markdown",
      "source": [
        "#6. explain the concept of genretors in python and how they are defined."
      ],
      "metadata": {
        "id": "bOC7aVFb0BoU"
      }
    },
    {
      "cell_type": "markdown",
      "source": [
        "#Ans:-Generators are a type of iterable, like lists or tuples, but they don't store all values in memory at once.\n",
        "Generators generate values on-the-fly as needed.\n",
        "\n",
        "Generators are defined using functions with the yield keyword.\n",
        "\n",
        "\n",
        "def generator_function():\n",
        "    yield value1\n",
        "    yield value2\n",
        "    yield value3\n",
        "\n",
        "\n",
        "When called, generator functions return generator objects.\n",
        "\n"
      ],
      "metadata": {
        "id": "iunbpguD0qov"
      }
    },
    {
      "cell_type": "code",
      "source": [
        "def infinite_sequence():\n",
        "    num = 0\n",
        "    while True:\n",
        "        yield num\n",
        "        num += 1"
      ],
      "metadata": {
        "id": "bozEipvZz_p0"
      },
      "execution_count": null,
      "outputs": []
    },
    {
      "cell_type": "code",
      "source": [
        "infinite_sequence()"
      ],
      "metadata": {
        "id": "2B5R66m31gQE"
      },
      "execution_count": null,
      "outputs": []
    },
    {
      "cell_type": "markdown",
      "source": [
        "#7.what are the advantages of using generators over reguler function?"
      ],
      "metadata": {
        "id": "myb0MH491_SM"
      }
    },
    {
      "cell_type": "markdown",
      "source": [
        "#Ans:-1. Memory Efficiency: Generators store only the current value, whereas regular functions store all values in memory.\n",
        "\n",
        "2. Lazy Evaluation: Generators compute values only when needed, reducing unnecessary computations.\n",
        "\n",
        "3. Infinite Sequences: Generators can produce infinite sequences, impossible with regular functions.\n",
        "\n",
        "4. Flexibility: Generators can be used with various iteration tools, such as loops and list comprehensions.\n",
        "\n",
        "5. Improved Performance: Generators execute faster due to reduced memory allocation and deallocation.\n",
        "\n",
        "6. Simplified Code: Generators simplify code by eliminating the need for explicit loops and indexing.\n",
        "\n",
        "7. Efficient Handling of Large Data: Generators efficiently handle large datasets by processing one element at a time.\n",
        "\n",
        "8. Asynchronous Programming: Generators enable asynchronous programming using yield from and async/await.\n",
        "\n"
      ],
      "metadata": {
        "id": "0KzO6d5I2ft8"
      }
    },
    {
      "cell_type": "code",
      "source": [
        "def squre_numbers(n):\n",
        "  result = []\n",
        "  for i in n:\n",
        "    result.append(i**2)\n",
        "    return result"
      ],
      "metadata": {
        "id": "nsSGxvJY12hc"
      },
      "execution_count": null,
      "outputs": []
    },
    {
      "cell_type": "code",
      "source": [
        "squre_numbers([5])"
      ],
      "metadata": {
        "id": "AWlxFk1_3GId"
      },
      "execution_count": null,
      "outputs": []
    },
    {
      "cell_type": "code",
      "source": [
        "squre_numbers([10])"
      ],
      "metadata": {
        "id": "D8p97Oap3N0c"
      },
      "execution_count": null,
      "outputs": []
    },
    {
      "cell_type": "markdown",
      "source": [
        "#8. what is a lambda function in python and when is it typically used?"
      ],
      "metadata": {
        "id": "keSwG_XA3wV2"
      }
    },
    {
      "cell_type": "markdown",
      "source": [
        "#Ans:-A lambda function is a small, anonymous function in Python.\n",
        "\n",
        "Syntax:\n",
        "\n",
        "\n",
        "lambda arguments: expression\n",
        "\n",
        "ypical Use Cases:\n",
        "\n",
        "1. Short, Simple Operations: Lambda functions are ideal for brief, straightforward operations.\n",
        "2. Event Handling: Lambda functions are often used as event handlers in GUI programming.\n",
        "3. Data Processing: Lambda functions can be used with map(), filter(), and reduce() functions.\n",
        "4. Sorting and Filtering: Lambda functions can be used as key functions for sorting and filtering.\n"
      ],
      "metadata": {
        "id": "Qhxl_QAj4OUF"
      }
    },
    {
      "cell_type": "code",
      "source": [
        "double = lambda x: x * 2\n",
        "print(double(5))"
      ],
      "metadata": {
        "id": "JCRGELjP3myU"
      },
      "execution_count": null,
      "outputs": []
    },
    {
      "cell_type": "markdown",
      "source": [
        "#9. explain the purpose and usage of the 'map()' function in python."
      ],
      "metadata": {
        "id": "2u0Mf8bQ4jSN"
      }
    },
    {
      "cell_type": "markdown",
      "source": [
        "#Ans:-The map() function applies a given function to each item of an iterable (such as a list, tuple, or string) and returns a map object.\n",
        "\n",
        "Syntax:\n",
        "\n",
        "\n",
        "map(function, iterable)\n",
        "\n",
        "\n",
        "Purpose:\n",
        "\n",
        "1. Apply a function to every item in an iterable.\n",
        "2. Transform data by applying a function to each element.\n",
        "3. Simplify code by avoiding explicit loops.\n"
      ],
      "metadata": {
        "id": "xLFgRsyQ5IaE"
      }
    },
    {
      "cell_type": "code",
      "source": [
        "l =[1,2,3,4,5]\n",
        "def squre(l):\n",
        "  sq = []\n",
        "  for i in l:\n",
        "    sq.append(i**2)"
      ],
      "metadata": {
        "id": "XFCTIIO15fEs"
      },
      "execution_count": null,
      "outputs": []
    },
    {
      "cell_type": "code",
      "source": [
        "squre (l)"
      ],
      "metadata": {
        "id": "P-b3QLgT8UL9"
      },
      "execution_count": null,
      "outputs": []
    },
    {
      "cell_type": "markdown",
      "source": [
        "#10. what is the difference between'map()','reduce()',and 'filter()'function in python?"
      ],
      "metadata": {
        "id": "PanlxMIj_mqA"
      }
    },
    {
      "cell_type": "markdown",
      "source": [
        "#Ans:- map(), reduce(), and filter() are three fundamental functions in Python's functional programming paradigm.\n",
        "\n",
        "Map()\n",
        "\n",
        "- Applies a function to every item in an iterable.\n",
        "- Returns a map object.\n",
        "- Used for data transformation.\n",
        "\n"
      ],
      "metadata": {
        "id": "wLbMF8mUAXlO"
      }
    },
    {
      "cell_type": "code",
      "source": [
        "numbers = [1, 2, 3, 4, 5]\n",
        "list = map(lambda x: x * 2, numbers)\n",
        "print(list)"
      ],
      "metadata": {
        "id": "dVQqiES1AWYd"
      },
      "execution_count": null,
      "outputs": []
    },
    {
      "cell_type": "markdown",
      "source": [
        "Reduce()\n",
        "\n",
        "- Applies a function to all items in an iterable, cumulatively.\n",
        "- Returns a single output value.\n",
        "- Used for aggregation operations.\n",
        "\n"
      ],
      "metadata": {
        "id": "wDnvFRjtBMXA"
      }
    },
    {
      "cell_type": "code",
      "source": [
        "from functools import reduce\n",
        "# for function import reduce\n",
        "\n",
        "l = [1,2,3,4,5,6]\n",
        "reduce(lambda x,y : x+y,l)\n"
      ],
      "metadata": {
        "id": "IzTLUBqnAlrd"
      },
      "execution_count": null,
      "outputs": []
    },
    {
      "cell_type": "markdown",
      "source": [
        "Filter()\n",
        "\n",
        "- Constructs an iterator from elements of an iterable for which a function returns True.\n",
        "- Returns a filter object.\n",
        "- Used for data filtering.\n"
      ],
      "metadata": {
        "id": "8Hcgpyl-EEGG"
      }
    },
    {
      "cell_type": "code",
      "source": [
        "#for function import filter\n",
        "\n",
        "\n",
        "numbers = [2, 8 ,1, 2, 3, 4, 5]\n",
        "list = filter(lambda x: x % 2 == 0, numbers)"
      ],
      "metadata": {
        "id": "cq6IvdvHBmlZ"
      },
      "execution_count": null,
      "outputs": []
    },
    {
      "cell_type": "markdown",
      "source": [
        "#11.using pen & pepar write the internal machanism for sum operation using reduce function on this given list:[47,11,42,13];"
      ],
      "metadata": {
        "id": "Xm4nBeBQHY0h"
      }
    },
    {
      "cell_type": "code",
      "source": [
        "from google. colab import files\n",
        "uploaded = files.upload()\n",
        "print(uploaded)"
      ],
      "metadata": {
        "id": "4NT0m7cVHDk2"
      },
      "execution_count": null,
      "outputs": []
    },
    {
      "cell_type": "markdown",
      "source": [
        "#peactical questions:"
      ],
      "metadata": {
        "id": "IrPMnkyYNHhZ"
      }
    },
    {
      "cell_type": "markdown",
      "source": [
        "#1. write a python function that take a list of numberas input and return the sum of all even number in the list"
      ],
      "metadata": {
        "id": "e5m_X1YMNPVQ"
      }
    },
    {
      "cell_type": "markdown",
      "source": [
        "#Ans:-Here's a Python function that calculates the sum of all even numbers in a list"
      ],
      "metadata": {
        "id": "_iIeovUmN47z"
      }
    },
    {
      "cell_type": "code",
      "source": [
        "def sum_even_numbers(numbers):\n",
        "    even_sum = sum(num for num in numbers if num % 2 == 0)\n",
        "    return even_sum"
      ],
      "metadata": {
        "id": "7F7NTO4PMXVY"
      },
      "execution_count": null,
      "outputs": []
    },
    {
      "cell_type": "code",
      "source": [
        "numbers = [1,2,3,4,5,6,7,8,9,10]\n",
        "result = sum_even_numbers(numbers)\n",
        "print(\"sum_even_numbers\", result)"
      ],
      "metadata": {
        "id": "v5oEl_iAODt4"
      },
      "execution_count": null,
      "outputs": []
    },
    {
      "cell_type": "code",
      "source": [
        "def sum_even_numbers(numbers):\n",
        "  even_sum = sum(filter(lambda x: x % 2 == 0, numbers))\n",
        "  return even_sum"
      ],
      "metadata": {
        "id": "EKTLJmFRPvjY"
      },
      "execution_count": null,
      "outputs": []
    },
    {
      "cell_type": "code",
      "source": [
        "numbers = [1,2,3,4,5,6,7,8,9,10]\n",
        "result = sum_even_numbers(numbers)\n",
        "print(\"sum of even numbers:\", result)"
      ],
      "metadata": {
        "id": "2PH-C11fRaYx"
      },
      "execution_count": null,
      "outputs": []
    },
    {
      "cell_type": "code",
      "source": [],
      "metadata": {
        "id": "X8T8SgieRtZ4"
      },
      "execution_count": null,
      "outputs": []
    },
    {
      "cell_type": "markdown",
      "source": [
        "#2.creat a python function that accepts and returns the reverse of that string."
      ],
      "metadata": {
        "id": "WwJie3XDRvbR"
      }
    },
    {
      "cell_type": "markdown",
      "source": [
        "#Ans:-Here's a Python function that accepts a string and returns its reverse:\n"
      ],
      "metadata": {
        "id": "7cQ-YRK4SUPi"
      }
    },
    {
      "cell_type": "code",
      "source": [
        "def reverse_string(s):\n",
        "    return s[::-1]\n"
      ],
      "metadata": {
        "id": "R4w-vogtSCQw"
      },
      "execution_count": null,
      "outputs": []
    },
    {
      "cell_type": "code",
      "source": [
        "input_str = \"Hello, World!\"\n",
        "reversed_str = reverse_string(input_str)\n",
        "print(\"Reversed string:\", reversed_str)"
      ],
      "metadata": {
        "id": "eNXDcIoHSbbo"
      },
      "execution_count": null,
      "outputs": []
    },
    {
      "cell_type": "markdown",
      "source": [
        "\n",
        "This function uses slicing (`s[::-1]`) to extract characters from the input string in reverse order.\n",
        "\n",
        "Alternatively, you can use the `reversed` function"
      ],
      "metadata": {
        "id": "1sBMEsUFSqQY"
      }
    },
    {
      "cell_type": "code",
      "source": [
        "def reverse_string(s):\n",
        "    return \"\".join(reversed(s))\n"
      ],
      "metadata": {
        "id": "9UeF15oISfIY"
      },
      "execution_count": null,
      "outputs": []
    },
    {
      "cell_type": "code",
      "source": [
        "input_str = \"Hello, World!\"\n",
        "reversed_str = reverse_string(input_str)\n",
        "print(\"Reversed string:\", reversed_str)\n"
      ],
      "metadata": {
        "id": "5blGCb3jSwUg"
      },
      "execution_count": null,
      "outputs": []
    },
    {
      "cell_type": "markdown",
      "source": [
        "#3. implement a python function that takes a list of integers and return a new list containing the squares of each number."
      ],
      "metadata": {
        "id": "YlRulTeNUEGB"
      }
    },
    {
      "cell_type": "markdown",
      "source": [
        "#Ans:-Here's a Python function that takes a list of integers and returns a new list containing the squares of each number:\n",
        "\n"
      ],
      "metadata": {
        "id": "y2jt6-tGBLea"
      }
    },
    {
      "cell_type": "code",
      "source": [
        "def square_numbers(numbers):\n",
        "    return [num ** 2 for num in numbers]"
      ],
      "metadata": {
        "id": "ot3NuuzJSz4I"
      },
      "execution_count": null,
      "outputs": []
    },
    {
      "cell_type": "code",
      "source": [
        "numbers = [1, 2, 3, 4, 5]\n",
        "squared_numbers = square_numbers(numbers)\n",
        "print(\"Squared numbers:\", squared_numbers)"
      ],
      "metadata": {
        "id": "z6x3ZKTRBUf6"
      },
      "execution_count": null,
      "outputs": []
    },
    {
      "cell_type": "markdown",
      "source": [
        "This function uses a list comprehension to iterate through the input list, squaring each number (`num ** 2`) and collecting the results in a new list.\n",
        "\n",
        "Alternatively, you can use the `map` function:\n",
        "\n"
      ],
      "metadata": {
        "id": "QJEe5TbzBnDp"
      }
    },
    {
      "cell_type": "code",
      "source": [
        "def square_numbers(numbers):\n",
        "    return list(map(lambda x: x ** 2, numbers))"
      ],
      "metadata": {
        "id": "B4TgDwSMBefr"
      },
      "execution_count": null,
      "outputs": []
    },
    {
      "cell_type": "code",
      "source": [
        "numbers = [1, 2, 3, 4, 5]\n",
        "squared_numbers = square_numbers(numbers)\n",
        "print(\"Squared numbers:\", squared_numbers)"
      ],
      "metadata": {
        "id": "M_iTxt4WBsEa"
      },
      "execution_count": null,
      "outputs": []
    },
    {
      "cell_type": "code",
      "source": [],
      "metadata": {
        "id": "pvFJ1gYqBwzg"
      },
      "execution_count": null,
      "outputs": []
    },
    {
      "cell_type": "markdown",
      "source": [
        "Both functions will produce the same result.\n",
        "\n",
        "If you want to implement it manually without using built-in functions:\n",
        "\n"
      ],
      "metadata": {
        "id": "_NqQTBcSB48p"
      }
    },
    {
      "cell_type": "code",
      "source": [
        "def square_numbers(numbers):\n",
        "    squared_numbers = []\n",
        "    for num in numbers:\n",
        "        squared_numbers.append(num ** 2)\n",
        "    return squared_numbers"
      ],
      "metadata": {
        "id": "BNTKX-3uB5nQ"
      },
      "execution_count": null,
      "outputs": []
    },
    {
      "cell_type": "code",
      "source": [
        "numbers = [1, 2, 3, 4, 5]\n",
        "squared_numbers = square_numbers(numbers)\n",
        "print(\"Squared numbers:\", squared_numbers)"
      ],
      "metadata": {
        "id": "04aEV9V0B9Ug"
      },
      "execution_count": null,
      "outputs": []
    },
    {
      "cell_type": "markdown",
      "source": [
        "#4. write a python function that check if a given number is prime or not from 1 to 200."
      ],
      "metadata": {
        "id": "k0lDhVEhCCVR"
      }
    },
    {
      "cell_type": "markdown",
      "source": [
        "#Ans:- This function works by:\n",
        "\n",
        "1. Checking if the number is less than or equal to 1 (not prime).\n",
        "2. Iterating from 2 to the square root of the number (`n**0.5`).\n",
        "3. Checking if the number is divisible by any of these values (`n % i == 0`).\n",
        "4. If divisible, returning `False` (not prime).\n",
        "5. If not divisible by any, returning `True` (prime).\n",
        "\n",
        "You can optimize this function by:\n",
        "\n",
        "* Using a sieve algorithm for larger ranges.\n",
        "* Checking only up to `n**0.5` instead of `n`.\n",
        "* Using a more efficient primality test.\n"
      ],
      "metadata": {
        "id": "Z39MmvDpCuhp"
      }
    },
    {
      "cell_type": "code",
      "source": [
        "def is_prime(n):\n",
        "    if n <= 1:\n",
        "        return False\n",
        "    for i in range(2, int(n**0.5) + 1):\n",
        "        if n % i == 0:\n",
        "            return False\n",
        "    return True"
      ],
      "metadata": {
        "id": "brfaXXkeCA7g"
      },
      "execution_count": null,
      "outputs": []
    },
    {
      "cell_type": "code",
      "source": [
        "for num in range(1, 201):\n",
        "    if is_prime(num):\n",
        "        print(f\"{num} is a prime number\")"
      ],
      "metadata": {
        "id": "HGhDlm30C1GT"
      },
      "execution_count": null,
      "outputs": []
    },
    {
      "cell_type": "code",
      "source": [],
      "metadata": {
        "id": "IJih638YC4xY"
      },
      "execution_count": null,
      "outputs": []
    },
    {
      "cell_type": "markdown",
      "source": [
        "#5. Create an iterator class in python that generates the fibonacci isequence up to a specofied number of terms."
      ],
      "metadata": {
        "id": "_t3JTQJsC65A"
      }
    },
    {
      "cell_type": "markdown",
      "source": [
        "#Ans:- Here's an iterator class in Python that generates the Fibonacci sequence up to a specified number of terms:\n"
      ],
      "metadata": {
        "id": "anFUfx00EX2Y"
      }
    },
    {
      "cell_type": "code",
      "source": [
        "def fibonacci(n):\n",
        "    a, b = 0, 1\n",
        "    for _ in range(n):\n",
        "        yield a\n",
        "        a, b = b, a + b"
      ],
      "metadata": {
        "id": "KMpkzt12Egvz"
      },
      "execution_count": null,
      "outputs": []
    },
    {
      "cell_type": "code",
      "source": [
        "fib_generator = fibonacci(10)\n",
        "for num in fib_generator:\n",
        "  print(num)"
      ],
      "metadata": {
        "id": "q_ONsGafEp2i"
      },
      "execution_count": null,
      "outputs": []
    },
    {
      "cell_type": "markdown",
      "source": [
        "#6. write a generator function in python that yields the power of 2 up to a give exponent."
      ],
      "metadata": {
        "id": "NSJBn5-eF_q6"
      }
    },
    {
      "cell_type": "markdown",
      "source": [
        "#Ans:- This `powers_of_two` generator function:\n",
        "\n",
        "1. Takes an exponent as input.\n",
        "2. Iterates over the range from 0 to the exponent (inclusive).\n",
        "3. Yields the power of 2 for each iteration (`2 ** i`).\n",
        "\n",
        "*Benefits:*\n",
        "\n",
        "- Efficiently generates powers of 2 without storing all values in memory.\n",
        "- Allows processing of powers in real-time.\n",
        "\n"
      ],
      "metadata": {
        "id": "r8njHSB9HEQj"
      }
    },
    {
      "cell_type": "code",
      "source": [
        "def powers_of_two(exponent):\n",
        "    for i in range(exponent + 1):\n",
        "        yield 2 ** i"
      ],
      "metadata": {
        "id": "DASyGPULF9ut"
      },
      "execution_count": null,
      "outputs": []
    },
    {
      "cell_type": "code",
      "source": [
        "exponent = 5\n",
        "for power in powers_of_two(exponent):\n",
        "    print(power)"
      ],
      "metadata": {
        "id": "OcbFxMfoHJ-p"
      },
      "execution_count": null,
      "outputs": []
    },
    {
      "cell_type": "markdown",
      "source": [
        "#7.implement a generator function in python reads a file line by line and yields each line a srting."
      ],
      "metadata": {
        "id": "MOhUQaOFHRKB"
      }
    },
    {
      "cell_type": "markdown",
      "source": [
        "# Ans:- This `read_file_lines` generator function:\n",
        "\n",
        "1. Opens the file in read mode (`'r'`) using a `with` statement.\n",
        "2. Iterates over each line in the file using a `for` loop.\n",
        "3. Yields each line as a string after stripping leading/trailing whitespace using `strip()`.\n",
        "4. Handles `FileNotFoundError` and other exceptions.\n",
        "\n",
        "*Benefits:*\n",
        "\n",
        "- Reads file line by line, conserving memory.\n",
        "- Yields each line as a string, allowing processing in real-time.\n",
        "- Handles errors and exceptions.\n",
        "\n",
        "*Example use cases:*\n",
        "\n",
        "- Processing large log files.\n",
        "- Reading configuration files.\n",
        "- Parsing data files.\n",
        "\n"
      ],
      "metadata": {
        "id": "fKq3YzLjH0BL"
      }
    },
    {
      "cell_type": "code",
      "source": [
        "def read_file_lines(file_path):\n",
        "    try:\n",
        "        with open(file_path, 'r') as file:\n",
        "            for line in file:\n",
        "                yield line.strip()\n",
        "    except FileNotFoundError:\n",
        "        print(f\"File {file_path} not found.\")\n",
        "        yield None\n",
        "    except Exception as e:\n",
        "        print(f\"Error reading file: {str(e)}\")\n",
        "        yield None"
      ],
      "metadata": {
        "id": "CPfCyeVaHNqo"
      },
      "execution_count": null,
      "outputs": []
    },
    {
      "cell_type": "code",
      "source": [
        "file_path = 'example.txt'\n",
        "for line in read_file_lines(file_path):\n",
        "  if line is not None:\n",
        "    print(line)"
      ],
      "metadata": {
        "id": "g2kP_yGCH60J"
      },
      "execution_count": null,
      "outputs": []
    },
    {
      "cell_type": "markdown",
      "source": [
        "#8. use a lambda function in python to sort a list of tuples based on the second element of each tuple."
      ],
      "metadata": {
        "id": "IS3_QDUzIStS"
      }
    },
    {
      "cell_type": "markdown",
      "source": [
        "# Ans:- use a lambda function in python to sort a list of tuples based on the second element of each tuple."
      ],
      "metadata": {
        "id": "uRGTL94BI8v5"
      }
    },
    {
      "cell_type": "code",
      "source": [
        "tuples_list = [(1, 9), (3, 7), (2, 5), (4, 1), (6, 3)]"
      ],
      "metadata": {
        "id": "xIrMv31KJCsp"
      },
      "execution_count": null,
      "outputs": []
    },
    {
      "cell_type": "code",
      "source": [
        "sorted_list = sorted(tuples_list, key=lambda x: x[1])\n",
        "\n",
        "print(sorted_list)"
      ],
      "metadata": {
        "id": "rc3TzBC5Jeeg"
      },
      "execution_count": null,
      "outputs": []
    },
    {
      "cell_type": "markdown",
      "source": [
        "#9. write a python program that uses 'map()' to convart a list of temperatures from cesius to fahrenheit."
      ],
      "metadata": {
        "id": "DZsrFV0ZJqvJ"
      }
    },
    {
      "cell_type": "markdown",
      "source": [
        "#Ans:- This program:\n",
        "\n",
        "1. Defines a `celsius_to_fahrenheit()` function to convert Celsius to Fahrenheit.\n",
        "2. Creates a list of temperatures in Celsius.\n",
        "3. Uses `map()` to apply the conversion function to each temperature.\n",
        "4. Converts the map object to a list using `list()`.\n",
        "5. Prints the original Celsius temperatures and the converted Fahrenheit temperatures.\n"
      ],
      "metadata": {
        "id": "AHV66giFKd0K"
      }
    },
    {
      "cell_type": "code",
      "source": [
        "def celsius_to_fahrenheit(celsius):\n",
        "    return (celsius * 9/5) + 32"
      ],
      "metadata": {
        "id": "Szg-K76OJk96"
      },
      "execution_count": null,
      "outputs": []
    },
    {
      "cell_type": "code",
      "source": [
        "celsius_temps = [0, 10, 20, 30, 40]"
      ],
      "metadata": {
        "id": "KFkbepQhKlWa"
      },
      "execution_count": null,
      "outputs": []
    },
    {
      "cell_type": "code",
      "source": [
        "fahrenheit_temps = list(map(celsius_to_fahrenheit, celsius_temps))\n",
        "\n",
        "print(\"Celsius Temperatures:\", celsius_temps)\n",
        "print(\"Fahrenheit Temperatures:\", fahrenheit_temps)"
      ],
      "metadata": {
        "id": "kPGsu1gCKoyq"
      },
      "execution_count": null,
      "outputs": []
    },
    {
      "cell_type": "markdown",
      "source": [
        "#10. create a python program that uses 'filter()' to remove all the vowels from a given string."
      ],
      "metadata": {
        "id": "oMfbmuLALFnJ"
      }
    },
    {
      "cell_type": "markdown",
      "source": [
        "# Ans:- This program:\n",
        "\n",
        "1. Defines a function `is_not_vowel()` to check if a character is not a vowel.\n",
        "2. Creates an input string.\n",
        "3. Uses `filter()` to remove vowels from the input string.\n",
        "4. Joins the filtered characters back into a string using `''.join()`.\n",
        "5. Prints the original string and the string without vowels.\n",
        "\n"
      ],
      "metadata": {
        "id": "2TwoF-CFLokJ"
      }
    },
    {
      "cell_type": "code",
      "source": [
        "def is_not_vowel(char):\n",
        "    vowels = 'aeiouAEIOU'\n",
        "    return char not in vowels"
      ],
      "metadata": {
        "id": "U64AYNspKsQI"
      },
      "execution_count": null,
      "outputs": []
    },
    {
      "cell_type": "code",
      "source": [
        "input_str = \"Hello, World!\""
      ],
      "metadata": {
        "id": "RhI12ahiLuVp"
      },
      "execution_count": null,
      "outputs": []
    },
    {
      "cell_type": "code",
      "source": [
        "result_str = ''.join(filter(is_not_vowel, input_str))\n",
        "\n",
        "print(\"Original String:\", input_str)\n",
        "print(\"String without vowels:\", result_str)"
      ],
      "metadata": {
        "id": "-h20gWvtLx8Z"
      },
      "execution_count": null,
      "outputs": []
    },
    {
      "cell_type": "markdown",
      "source": [
        "# 11. imagin an accounting used in a book shop. it work on a list with sublists, which look like this:\n",
        "      "
      ],
      "metadata": {
        "id": "wsCz3UXEL7WC"
      }
    },
    {
      "cell_type": "markdown",
      "source": [
        "![WhatsApp Image 2024-11-21 at 11.03.16_2a71d9e2.jpg](data:image/jpeg;base64,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)"
      ],
      "metadata": {
        "id": "QiH1K5YUNkmZ"
      }
    },
    {
      "cell_type": "code",
      "source": [],
      "metadata": {
        "id": "fkzsXU7QL12o"
      },
      "execution_count": null,
      "outputs": []
    },
    {
      "cell_type": "markdown",
      "source": [
        "# Ans:- This program:\n",
        "\n",
        "Here's a Python program that processes the accounting list and returns a list of 2-tuples with the order number and the total product price:\n",
        "\n",
        "1. Defines the accounting list with sublists.\n",
        "2. Defines a function calculate_total_price() to calculate the total product price.\n",
        "3. Checks if the total price is smaller than $100 and adds $10 if necessary.\n",
        "4. Uses map() to apply the function to each sublist.\n",
        "5. Converts the map object to a list using list().\n",
        "6. Prints the resulting list of 2-tuples.\n",
        "\n"
      ],
      "metadata": {
        "id": "mrLtEmQORnVS"
      }
    },
    {
      "cell_type": "code",
      "source": [
        "accounting_list = [\n",
        "    [34587, \"Learning Python\", \"Mark Lutz\", 4, 40.95],\n",
        "    [98762, \"Programming Python\", \"Mark Lutz\", 5, 56.80],\n",
        "    [77226, \"Head First Python\", \"Paul Barry\", 3, 32.95],\n",
        "    [88112, \"Einführung in Python3\", \"Bernd Klein\", 3, 24.99]\n",
        "]"
      ],
      "metadata": {
        "id": "DK8WYLapRpUp"
      },
      "execution_count": null,
      "outputs": []
    },
    {
      "cell_type": "code",
      "source": [
        "def calculate_total_price(order):\n",
        "    total_price = order[3] * order[4]\n",
        "    if total_price < 100:\n",
        "        total_price += 10\n",
        "    return (order[0], total_price)"
      ],
      "metadata": {
        "id": "PvJEph63RvxR"
      },
      "execution_count": null,
      "outputs": []
    },
    {
      "cell_type": "code",
      "source": [
        "result = list(map(calculate_total_price, accounting_list))\n",
        "\n",
        "print(result)"
      ],
      "metadata": {
        "id": "lqTk8lh-R0bg"
      },
      "execution_count": null,
      "outputs": []
    },
    {
      "cell_type": "code",
      "source": [],
      "metadata": {
        "id": "TgnStdVtSR1Z"
      },
      "execution_count": null,
      "outputs": []
    }
  ]
}